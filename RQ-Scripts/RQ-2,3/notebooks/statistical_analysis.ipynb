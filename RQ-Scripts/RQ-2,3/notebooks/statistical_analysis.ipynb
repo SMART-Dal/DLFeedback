{
 "cells": [
  {
   "cell_type": "code",
   "execution_count": 1,
   "id": "5c8bc371-1b24-4406-8da6-d2d6fe952d37",
   "metadata": {},
   "outputs": [],
   "source": [
    "from scipy.stats import levene, shapiro, ttest_rel, spearmanr, permutation_test\n",
    "from itertools import permutations\n",
    "import pandas as pd\n",
    "import numpy as np\n",
    "from tqdm import tqdm\n",
    "import pingouin as pg\n",
    "import matplotlib.pyplot as plt\n",
    "import scienceplots\n",
    "import seaborn as sns\n",
    "import statsmodels.api as sm\n",
    "plt.style.use(['science', 'ieee'])"
   ]
  },
  {
   "cell_type": "code",
   "execution_count": 2,
   "id": "4a62c996-67d8-4766-9687-a8b1fcb4fd61",
   "metadata": {},
   "outputs": [],
   "source": [
    "import scipy"
   ]
  },
  {
   "cell_type": "code",
   "execution_count": 3,
   "id": "afc808a5-7885-4599-870e-8852af9a9d29",
   "metadata": {},
   "outputs": [
    {
     "data": {
      "text/plain": [
       "'1.11.1'"
      ]
     },
     "execution_count": 3,
     "metadata": {},
     "output_type": "execute_result"
    }
   ],
   "source": [
    "scipy.__version__"
   ]
  },
  {
   "cell_type": "code",
   "execution_count": 4,
   "id": "64078e4e-bdb9-4a73-8064-5c68192646b8",
   "metadata": {},
   "outputs": [],
   "source": [
    "df = pd.read_csv(\"../results/participants.csv\")"
   ]
  },
  {
   "cell_type": "code",
   "execution_count": 5,
   "id": "e9604a7c-5ac7-4f00-8afa-0b4cd23ffab1",
   "metadata": {},
   "outputs": [],
   "source": [
    "df[\"diff_F1\"] = df[\"Before\"] - df[\"After\"]"
   ]
  },
  {
   "cell_type": "code",
   "execution_count": 6,
   "id": "248db3f4-ea1a-47ec-8763-448c7b36348b",
   "metadata": {},
   "outputs": [],
   "source": [
    "treatment_group = df[df[\"Group\"] == \"A\"]"
   ]
  },
  {
   "cell_type": "code",
   "execution_count": 7,
   "id": "ba884082-ec55-4e31-b5e2-cb9afb16c7ce",
   "metadata": {},
   "outputs": [
    {
     "data": {
      "text/html": [
       "<div>\n",
       "<style scoped>\n",
       "    .dataframe tbody tr th:only-of-type {\n",
       "        vertical-align: middle;\n",
       "    }\n",
       "\n",
       "    .dataframe tbody tr th {\n",
       "        vertical-align: top;\n",
       "    }\n",
       "\n",
       "    .dataframe thead th {\n",
       "        text-align: right;\n",
       "    }\n",
       "</style>\n",
       "<table border=\"1\" class=\"dataframe\">\n",
       "  <thead>\n",
       "    <tr style=\"text-align: right;\">\n",
       "      <th></th>\n",
       "      <th>Participant</th>\n",
       "      <th>Total-Size</th>\n",
       "      <th>Before</th>\n",
       "      <th>After</th>\n",
       "      <th>Group</th>\n",
       "      <th>diff_F1</th>\n",
       "    </tr>\n",
       "  </thead>\n",
       "  <tbody>\n",
       "    <tr>\n",
       "      <th>0</th>\n",
       "      <td>1</td>\n",
       "      <td>113</td>\n",
       "      <td>0.72</td>\n",
       "      <td>0.83</td>\n",
       "      <td>A</td>\n",
       "      <td>-0.11</td>\n",
       "    </tr>\n",
       "    <tr>\n",
       "      <th>2</th>\n",
       "      <td>3</td>\n",
       "      <td>93</td>\n",
       "      <td>0.90</td>\n",
       "      <td>0.97</td>\n",
       "      <td>A</td>\n",
       "      <td>-0.07</td>\n",
       "    </tr>\n",
       "    <tr>\n",
       "      <th>3</th>\n",
       "      <td>4</td>\n",
       "      <td>85</td>\n",
       "      <td>0.88</td>\n",
       "      <td>0.93</td>\n",
       "      <td>A</td>\n",
       "      <td>-0.05</td>\n",
       "    </tr>\n",
       "    <tr>\n",
       "      <th>7</th>\n",
       "      <td>8</td>\n",
       "      <td>108</td>\n",
       "      <td>0.87</td>\n",
       "      <td>0.95</td>\n",
       "      <td>A</td>\n",
       "      <td>-0.08</td>\n",
       "    </tr>\n",
       "    <tr>\n",
       "      <th>8</th>\n",
       "      <td>9</td>\n",
       "      <td>73</td>\n",
       "      <td>0.73</td>\n",
       "      <td>0.91</td>\n",
       "      <td>A</td>\n",
       "      <td>-0.18</td>\n",
       "    </tr>\n",
       "    <tr>\n",
       "      <th>9</th>\n",
       "      <td>10</td>\n",
       "      <td>78</td>\n",
       "      <td>0.79</td>\n",
       "      <td>0.82</td>\n",
       "      <td>A</td>\n",
       "      <td>-0.03</td>\n",
       "    </tr>\n",
       "    <tr>\n",
       "      <th>13</th>\n",
       "      <td>11</td>\n",
       "      <td>79</td>\n",
       "      <td>0.57</td>\n",
       "      <td>0.81</td>\n",
       "      <td>A</td>\n",
       "      <td>-0.24</td>\n",
       "    </tr>\n",
       "  </tbody>\n",
       "</table>\n",
       "</div>"
      ],
      "text/plain": [
       "    Participant  Total-Size  Before  After Group  diff_F1\n",
       "0             1         113    0.72   0.83     A    -0.11\n",
       "2             3          93    0.90   0.97     A    -0.07\n",
       "3             4          85    0.88   0.93     A    -0.05\n",
       "7             8         108    0.87   0.95     A    -0.08\n",
       "8             9          73    0.73   0.91     A    -0.18\n",
       "9            10          78    0.79   0.82     A    -0.03\n",
       "13           11          79    0.57   0.81     A    -0.24"
      ]
     },
     "execution_count": 7,
     "metadata": {},
     "output_type": "execute_result"
    }
   ],
   "source": [
    "treatment_group"
   ]
  },
  {
   "cell_type": "code",
   "execution_count": 8,
   "id": "de52c89c-a3e8-4263-8bb6-3b1611a0987c",
   "metadata": {},
   "outputs": [],
   "source": [
    "control_group = df[df[\"Group\"] == \"P\"]"
   ]
  },
  {
   "cell_type": "code",
   "execution_count": 9,
   "id": "bae1b91c-85b5-414a-adab-f15cd4c239dc",
   "metadata": {},
   "outputs": [],
   "source": [
    "f1s_before, f1s_after = treatment_group[\"Before\"].tolist(), treatment_group[\"After\"].tolist()"
   ]
  },
  {
   "cell_type": "code",
   "execution_count": 10,
   "id": "7a2a8551-8ecb-4e9d-9ab7-60458128ab07",
   "metadata": {},
   "outputs": [
    {
     "name": "stdout",
     "output_type": "stream",
     "text": [
      "Mean F1 Before (Treatment Group): 0.78\n"
     ]
    }
   ],
   "source": [
    "print(f\"Mean F1 Before (Treatment Group): {np.mean(f1s_before)}\")"
   ]
  },
  {
   "cell_type": "code",
   "execution_count": 11,
   "id": "5331fbec-28f9-461d-a469-26d89bbe15e5",
   "metadata": {},
   "outputs": [
    {
     "name": "stdout",
     "output_type": "stream",
     "text": [
      "Std. F1 Before (Treatment Group): 0.10875923606099591\n"
     ]
    }
   ],
   "source": [
    "print(f\"Std. F1 Before (Treatment Group): {np.std(f1s_before)}\")"
   ]
  },
  {
   "cell_type": "code",
   "execution_count": 12,
   "id": "1dc851f2-cb44-4966-ab29-a803729f22ae",
   "metadata": {},
   "outputs": [
    {
     "name": "stdout",
     "output_type": "stream",
     "text": [
      "Mean F1 After (Treatment Group): 0.8885714285714287\n"
     ]
    }
   ],
   "source": [
    "print(f\"Mean F1 After (Treatment Group): {np.mean(f1s_after)}\")"
   ]
  },
  {
   "cell_type": "code",
   "execution_count": 13,
   "id": "5502c7f6-14d3-453a-b1c9-9e28a8533f26",
   "metadata": {},
   "outputs": [
    {
     "name": "stdout",
     "output_type": "stream",
     "text": [
      "Std. F1 After (Treatment Group): 0.06197431989566817\n"
     ]
    }
   ],
   "source": [
    "print(f\"Std. F1 After (Treatment Group): {np.std(f1s_after)}\")"
   ]
  },
  {
   "cell_type": "markdown",
   "id": "763c01c3-253e-49cc-a6c9-61bae0b79251",
   "metadata": {},
   "source": [
    "## Statistical tests on Treatment (or Action or Experiment) Group"
   ]
  },
  {
   "cell_type": "code",
   "execution_count": 14,
   "id": "4cd36bf3-1a16-4386-b4c6-e56a1b3469bf",
   "metadata": {},
   "outputs": [],
   "source": [
    "def perm_levene(*samples):\n",
    "    return levene(*samples).statistic\n",
    "\n",
    "def prem_ttest_rel(*samples):\n",
    "    return ttest_rel(*samples).statistic"
   ]
  },
  {
   "cell_type": "code",
   "execution_count": 15,
   "id": "5e7036a8-6000-4479-9ad5-39d3d0a3b2e8",
   "metadata": {},
   "outputs": [],
   "source": [
    "# Testing for homoscedasticity using  the Levene test\n",
    "# https://docs.scipy.org/doc/scipy/reference/generated/scipy.stats.levene.html\n",
    "exp_levene_res = permutation_test(\n",
    "    (f1s_before, f1s_after), perm_levene,\n",
    "    permutation_type='samples', alternative='two-sided'\n",
    ")"
   ]
  },
  {
   "cell_type": "code",
   "execution_count": 16,
   "id": "cad28cff-7a06-4b71-a02e-d4f997ec5440",
   "metadata": {},
   "outputs": [
    {
     "data": {
      "text/plain": [
       "0.71875"
      ]
     },
     "execution_count": 16,
     "metadata": {},
     "output_type": "execute_result"
    }
   ],
   "source": [
    "# H0: The Levene test tests the null hypothesis that all input samples are from populations with equal variances.\n",
    "# p > 0.05 => cannot reject H0, the samples may satisfy homoscedasticity\n",
    "exp_levene_res.pvalue"
   ]
  },
  {
   "cell_type": "code",
   "execution_count": 17,
   "id": "3195ab88-1401-486c-9327-234d18e2510b",
   "metadata": {},
   "outputs": [],
   "source": [
    "# Testing for normality using Shapiro-Wilk test for F1s before and after\n",
    "# https://docs.scipy.org/doc/scipy/reference/generated/scipy.stats.levene.html\n",
    "normality_f1s_before = shapiro(f1s_before)"
   ]
  },
  {
   "cell_type": "code",
   "execution_count": 18,
   "id": "7cfa4e41-586a-44c6-8e76-aa46daf4ad3c",
   "metadata": {},
   "outputs": [
    {
     "data": {
      "text/plain": [
       "ShapiroResult(statistic=0.9058297276496887, pvalue=0.3677538335323334)"
      ]
     },
     "execution_count": 18,
     "metadata": {},
     "output_type": "execute_result"
    }
   ],
   "source": [
    "# H0: The Shapiro-Wilk test tests the null hypothesis that the data was drawn from a normal distribution.\n",
    "# p > 0.05 => cannot reject H0, the samples may satisfy homoscedasticity\n",
    "normality_f1s_before"
   ]
  },
  {
   "cell_type": "code",
   "execution_count": 19,
   "id": "95e53521-38a6-4ed2-804c-631b3c6c7467",
   "metadata": {},
   "outputs": [],
   "source": [
    "normality_f1s_after = shapiro(f1s_after)"
   ]
  },
  {
   "cell_type": "code",
   "execution_count": 20,
   "id": "3522c3e5-95dc-4f8b-982f-a704d5cf463c",
   "metadata": {},
   "outputs": [
    {
     "data": {
      "text/plain": [
       "ShapiroResult(statistic=0.872991681098938, pvalue=0.19711165130138397)"
      ]
     },
     "execution_count": 20,
     "metadata": {},
     "output_type": "execute_result"
    }
   ],
   "source": [
    "# H0: The Shapiro-Wilk test tests the null hypothesis that the data was drawn from a normal distribution.\n",
    "# p > 0.05 => accept H0\n",
    "normality_f1s_after"
   ]
  },
  {
   "cell_type": "code",
   "execution_count": 21,
   "id": "2734a98d-8cfa-460b-ba5f-7c7384d2440c",
   "metadata": {},
   "outputs": [],
   "source": [
    "# H0: The increase of F1 scores is not significant for experiment\n",
    "exp_t_stat_res = permutation_test(\n",
    "    (f1s_before, f1s_after), prem_ttest_rel,\n",
    "    permutation_type='samples', alternative='two-sided'\n",
    ")"
   ]
  },
  {
   "cell_type": "code",
   "execution_count": 22,
   "id": "a5f9c5f8-0a5e-4455-86ed-43b403d70242",
   "metadata": {},
   "outputs": [
    {
     "data": {
      "text/plain": [
       "-3.7999999999999967"
      ]
     },
     "execution_count": 22,
     "metadata": {},
     "output_type": "execute_result"
    }
   ],
   "source": [
    "exp_t_stat_res.statistic"
   ]
  },
  {
   "cell_type": "code",
   "execution_count": 23,
   "id": "1cbbf7c2-f97a-4dbc-8535-e442a09d1955",
   "metadata": {},
   "outputs": [
    {
     "data": {
      "text/plain": [
       "0.015625"
      ]
     },
     "execution_count": 23,
     "metadata": {},
     "output_type": "execute_result"
    }
   ],
   "source": [
    "exp_t_stat_res.pvalue"
   ]
  },
  {
   "cell_type": "code",
   "execution_count": 24,
   "id": "f21fa0d8-0a48-439b-a07f-5b955393e7d5",
   "metadata": {},
   "outputs": [],
   "source": [
    "# p ≤ 0.05, H0 can be rejected => increase is significant"
   ]
  },
  {
   "cell_type": "code",
   "execution_count": 25,
   "id": "2cde0366-31a1-4aad-bb9b-eee5672f47f2",
   "metadata": {},
   "outputs": [
    {
     "data": {
      "text/plain": [
       "1.1356150550392803"
      ]
     },
     "execution_count": 25,
     "metadata": {},
     "output_type": "execute_result"
    }
   ],
   "source": [
    "# Caluclating Hedge's g\n",
    "data = treatment_group.rename(columns={'Before': 'Round 1', 'After': 'Round 2'})\n",
    "group_exp_plot = pd.melt(data, id_vars='Participant', value_vars=['Round 1', 'Round 2'],var_name='Round', value_name='Value')\n",
    "n = group_exp_plot.groupby('Round').count()\n",
    "n1 = n['Value']['Round 1']\n",
    "n2 = n['Value']['Round 2']\n",
    "dof = n.sum()['Value'] - 2\n",
    "variances = group_exp_plot.groupby('Round').var(ddof=1)\n",
    "var1 = variances['Value']['Round 1']\n",
    "var2 = variances['Value']['Round 2']\n",
    "diff_mean = abs(group_exp_plot.groupby('Round').mean().diff()['Value'][-1])\n",
    "s_pooled_star = np.sqrt((((n1 - 1) * var1) + ((n2 - 1) * var2)) / dof)\n",
    "hedgess_g = diff_mean / s_pooled_star\n",
    "hedgess_g"
   ]
  },
  {
   "cell_type": "markdown",
   "id": "45c3c432-7192-42a1-b024-ffa519e62dca",
   "metadata": {},
   "source": [
    "## Statistical tests on Placebo (or Control) Group"
   ]
  },
  {
   "cell_type": "code",
   "execution_count": 26,
   "id": "e7035ee0-28ae-43e0-9e91-f60ebbfda4ab",
   "metadata": {},
   "outputs": [],
   "source": [
    "ctrl_f1s_before, ctrl_f1s_after = control_group[\"Before\"].tolist(), control_group[\"After\"].tolist()"
   ]
  },
  {
   "cell_type": "code",
   "execution_count": 27,
   "id": "5717d61f-5b3e-40c1-810b-a1097e89f7bc",
   "metadata": {},
   "outputs": [],
   "source": [
    "# Testing for homoscedasticity using  the Levene test\n",
    "# https://docs.scipy.org/doc/scipy/reference/generated/scipy.stats.levene.html\n",
    "ctrl_levene_res = permutation_test(\n",
    "    (ctrl_f1s_before, ctrl_f1s_after), perm_levene,\n",
    "    permutation_type='samples', alternative='two-sided'\n",
    ")"
   ]
  },
  {
   "cell_type": "code",
   "execution_count": 28,
   "id": "9e23c445-7757-48db-bb38-94431e749fb9",
   "metadata": {},
   "outputs": [
    {
     "name": "stdout",
     "output_type": "stream",
     "text": [
      "0.09374999999999886\n",
      "0.6875\n"
     ]
    }
   ],
   "source": [
    "# H0: The Levene test tests the null hypothesis that all input samples are from populations with equal variances.\n",
    "# p > 0.05 => cannot reject H0, the samples may satisfy homoscedasticity\n",
    "print(ctrl_levene_res.statistic)\n",
    "print(ctrl_levene_res.pvalue)"
   ]
  },
  {
   "cell_type": "code",
   "execution_count": 29,
   "id": "f52e4f58-e8ef-41dc-8bc5-35c83b4b06fe",
   "metadata": {},
   "outputs": [],
   "source": [
    "# Testing for normality using Shapiro-Wilk test for F1s before and after\n",
    "# https://docs.scipy.org/doc/scipy/reference/generated/scipy.stats.levene.html\n",
    "normality_ctrl_f1s_before = shapiro(ctrl_f1s_before)"
   ]
  },
  {
   "cell_type": "code",
   "execution_count": 30,
   "id": "f35e0a6e-9540-4609-a23a-b55dfb1444cf",
   "metadata": {},
   "outputs": [
    {
     "data": {
      "text/plain": [
       "ShapiroResult(statistic=0.9584856629371643, pvalue=0.8056417107582092)"
      ]
     },
     "execution_count": 30,
     "metadata": {},
     "output_type": "execute_result"
    }
   ],
   "source": [
    "# H0: The Shapiro-Wilk test tests the null hypothesis that the data was drawn from a normal distribution.\n",
    "# p > 0.05 => cannot reject H0, the samples may satisfy homoscedasticity\n",
    "normality_ctrl_f1s_before"
   ]
  },
  {
   "cell_type": "code",
   "execution_count": 31,
   "id": "f0f29805-f0b6-41ee-acdb-8afed54bdc2c",
   "metadata": {},
   "outputs": [],
   "source": [
    "normality_ctrl_f1s_after = shapiro(ctrl_f1s_after)"
   ]
  },
  {
   "cell_type": "code",
   "execution_count": 32,
   "id": "bca069ca-9514-408c-bdcc-09afcdf5b612",
   "metadata": {},
   "outputs": [
    {
     "data": {
      "text/plain": [
       "ShapiroResult(statistic=0.9196439385414124, pvalue=0.46663081645965576)"
      ]
     },
     "execution_count": 32,
     "metadata": {},
     "output_type": "execute_result"
    }
   ],
   "source": [
    "# H0: The Shapiro-Wilk test tests the null hypothesis that the data was drawn from a normal distribution.\n",
    "# p > 0.05 => cannot reject H0, the samples may satisfy homoscedasticity\n",
    "normality_ctrl_f1s_after"
   ]
  },
  {
   "cell_type": "code",
   "execution_count": 33,
   "id": "5a2e8f02-62a9-4d78-9daf-a2b8ad181ded",
   "metadata": {},
   "outputs": [],
   "source": [
    "# H0: The increase of F1 scores is not significant for experiment\n",
    "ctrl_t_stat_res = permutation_test(\n",
    "    (ctrl_f1s_before, ctrl_f1s_after), prem_ttest_rel,\n",
    "    permutation_type='samples', alternative='two-sided'\n",
    ")"
   ]
  },
  {
   "cell_type": "code",
   "execution_count": 34,
   "id": "8b81b2bf-b34d-4863-aa41-f09529ef831b",
   "metadata": {},
   "outputs": [
    {
     "name": "stdout",
     "output_type": "stream",
     "text": [
      "-2.497480745059397\n",
      "0.0625\n"
     ]
    }
   ],
   "source": [
    "print(ctrl_t_stat_res.statistic)\n",
    "print(ctrl_t_stat_res.pvalue)"
   ]
  },
  {
   "cell_type": "code",
   "execution_count": 35,
   "id": "b391bd36-6929-4946-9204-296b777d4307",
   "metadata": {},
   "outputs": [],
   "source": [
    "# p > 0.05, H0 cannot be rejected => increase is NOT significant"
   ]
  },
  {
   "cell_type": "code",
   "execution_count": 36,
   "id": "4449c964-0ed7-464f-9836-381e5a47bfca",
   "metadata": {},
   "outputs": [
    {
     "name": "stdout",
     "output_type": "stream",
     "text": [
      "Mean F1 Before (Control Group): 0.8328571428571427\n"
     ]
    }
   ],
   "source": [
    "print(f\"Mean F1 Before (Control Group): {np.mean(ctrl_f1s_before)}\")"
   ]
  },
  {
   "cell_type": "code",
   "execution_count": 37,
   "id": "4089cd37-f990-4028-b899-2bc4939e89e6",
   "metadata": {},
   "outputs": [
    {
     "name": "stdout",
     "output_type": "stream",
     "text": [
      "Std F1 Before (Control Group): 0.03806546455564064\n"
     ]
    }
   ],
   "source": [
    "print(f\"Std F1 Before (Control Group): {np.std(ctrl_f1s_before)}\")"
   ]
  },
  {
   "cell_type": "code",
   "execution_count": 38,
   "id": "27cbeeee-cd53-4c7f-ac02-f5bd99855e5d",
   "metadata": {},
   "outputs": [
    {
     "name": "stdout",
     "output_type": "stream",
     "text": [
      "Mean F1 After (Control Group): 0.8571428571428571\n"
     ]
    }
   ],
   "source": [
    "print(f\"Mean F1 After (Control Group): {np.mean(ctrl_f1s_after)}\")"
   ]
  },
  {
   "cell_type": "code",
   "execution_count": 39,
   "id": "7183a152-52b0-4fb0-a0ae-064cfaca2c41",
   "metadata": {},
   "outputs": [
    {
     "name": "stdout",
     "output_type": "stream",
     "text": [
      "Std F1 After (Control Group): 0.03149343955006944\n"
     ]
    }
   ],
   "source": [
    "print(f\"Std F1 After (Control Group): {np.std(ctrl_f1s_after)}\")"
   ]
  },
  {
   "cell_type": "code",
   "execution_count": 40,
   "id": "99f5d73c-84f0-4fd9-b51e-6b4d43d51a1c",
   "metadata": {},
   "outputs": [
    {
     "data": {
      "text/html": [
       "<div>\n",
       "<style scoped>\n",
       "    .dataframe tbody tr th:only-of-type {\n",
       "        vertical-align: middle;\n",
       "    }\n",
       "\n",
       "    .dataframe tbody tr th {\n",
       "        vertical-align: top;\n",
       "    }\n",
       "\n",
       "    .dataframe thead th {\n",
       "        text-align: right;\n",
       "    }\n",
       "</style>\n",
       "<table border=\"1\" class=\"dataframe\">\n",
       "  <thead>\n",
       "    <tr style=\"text-align: right;\">\n",
       "      <th></th>\n",
       "      <th>Participant</th>\n",
       "      <th>Total-Size</th>\n",
       "      <th>Before</th>\n",
       "      <th>After</th>\n",
       "      <th>Group</th>\n",
       "      <th>diff_F1</th>\n",
       "    </tr>\n",
       "  </thead>\n",
       "  <tbody>\n",
       "    <tr>\n",
       "      <th>0</th>\n",
       "      <td>1</td>\n",
       "      <td>113</td>\n",
       "      <td>0.72</td>\n",
       "      <td>0.83</td>\n",
       "      <td>A</td>\n",
       "      <td>-0.11</td>\n",
       "    </tr>\n",
       "    <tr>\n",
       "      <th>2</th>\n",
       "      <td>3</td>\n",
       "      <td>93</td>\n",
       "      <td>0.90</td>\n",
       "      <td>0.97</td>\n",
       "      <td>A</td>\n",
       "      <td>-0.07</td>\n",
       "    </tr>\n",
       "    <tr>\n",
       "      <th>3</th>\n",
       "      <td>4</td>\n",
       "      <td>85</td>\n",
       "      <td>0.88</td>\n",
       "      <td>0.93</td>\n",
       "      <td>A</td>\n",
       "      <td>-0.05</td>\n",
       "    </tr>\n",
       "    <tr>\n",
       "      <th>7</th>\n",
       "      <td>8</td>\n",
       "      <td>108</td>\n",
       "      <td>0.87</td>\n",
       "      <td>0.95</td>\n",
       "      <td>A</td>\n",
       "      <td>-0.08</td>\n",
       "    </tr>\n",
       "    <tr>\n",
       "      <th>8</th>\n",
       "      <td>9</td>\n",
       "      <td>73</td>\n",
       "      <td>0.73</td>\n",
       "      <td>0.91</td>\n",
       "      <td>A</td>\n",
       "      <td>-0.18</td>\n",
       "    </tr>\n",
       "    <tr>\n",
       "      <th>9</th>\n",
       "      <td>10</td>\n",
       "      <td>78</td>\n",
       "      <td>0.79</td>\n",
       "      <td>0.82</td>\n",
       "      <td>A</td>\n",
       "      <td>-0.03</td>\n",
       "    </tr>\n",
       "    <tr>\n",
       "      <th>13</th>\n",
       "      <td>11</td>\n",
       "      <td>79</td>\n",
       "      <td>0.57</td>\n",
       "      <td>0.81</td>\n",
       "      <td>A</td>\n",
       "      <td>-0.24</td>\n",
       "    </tr>\n",
       "  </tbody>\n",
       "</table>\n",
       "</div>"
      ],
      "text/plain": [
       "    Participant  Total-Size  Before  After Group  diff_F1\n",
       "0             1         113    0.72   0.83     A    -0.11\n",
       "2             3          93    0.90   0.97     A    -0.07\n",
       "3             4          85    0.88   0.93     A    -0.05\n",
       "7             8         108    0.87   0.95     A    -0.08\n",
       "8             9          73    0.73   0.91     A    -0.18\n",
       "9            10          78    0.79   0.82     A    -0.03\n",
       "13           11          79    0.57   0.81     A    -0.24"
      ]
     },
     "execution_count": 40,
     "metadata": {},
     "output_type": "execute_result"
    }
   ],
   "source": [
    "treatment_group"
   ]
  },
  {
   "cell_type": "code",
   "execution_count": 41,
   "id": "b5008bdb-615a-4693-b77a-c2e85c2bea70",
   "metadata": {},
   "outputs": [
    {
     "data": {
      "text/plain": [
       "SignificanceResult(statistic=0.39285714285714296, pvalue=0.38331687042697266)"
      ]
     },
     "execution_count": 41,
     "metadata": {},
     "output_type": "execute_result"
    }
   ],
   "source": [
    "spearmanr(treatment_group[\"Total-Size\"], treatment_group[\"After\"])"
   ]
  },
  {
   "cell_type": "code",
   "execution_count": 42,
   "id": "7b157360-b52b-4b0e-9121-29d06d033f39",
   "metadata": {},
   "outputs": [
    {
     "data": {
      "text/plain": [
       "SignificanceResult(statistic=-0.18018749253911182, pvalue=0.6990457740939315)"
      ]
     },
     "execution_count": 42,
     "metadata": {},
     "output_type": "execute_result"
    }
   ],
   "source": [
    "spearmanr(control_group[\"Total-Size\"], control_group[\"After\"])"
   ]
  },
  {
   "cell_type": "code",
   "execution_count": 43,
   "id": "64e6b1f0-4682-4f50-a32f-b7c0918cb177",
   "metadata": {},
   "outputs": [],
   "source": [
    "x = treatment_group[\"Total-Size\"]\n",
    "y = treatment_group[\"diff_F1\"]"
   ]
  },
  {
   "cell_type": "code",
   "execution_count": 44,
   "id": "6d06cef2-00d1-4e48-b8ae-4fbee10143ec",
   "metadata": {},
   "outputs": [],
   "source": [
    "def statistic1d(x):\n",
    "        return spearmanr(x, y).correlation"
   ]
  },
  {
   "cell_type": "code",
   "execution_count": 45,
   "id": "6159e103-06b5-4efa-9206-a91337f129d3",
   "metadata": {},
   "outputs": [],
   "source": [
    "res = permutation_test((x,), statistic1d, permutation_type='pairings',\n",
    "                           n_resamples=np.inf, alternative=\"two-sided\")"
   ]
  },
  {
   "cell_type": "code",
   "execution_count": 46,
   "id": "001cfc04-df61-4f0a-a190-be4faf9dc4c3",
   "metadata": {},
   "outputs": [
    {
     "data": {
      "text/plain": [
       "0.03571428571428572"
      ]
     },
     "execution_count": 46,
     "metadata": {},
     "output_type": "execute_result"
    }
   ],
   "source": [
    "res.statistic"
   ]
  },
  {
   "cell_type": "code",
   "execution_count": 47,
   "id": "8d9ce50b-23db-4c0f-9653-e6941d746630",
   "metadata": {},
   "outputs": [
    {
     "data": {
      "text/plain": [
       "0.9634920634920635"
      ]
     },
     "execution_count": 47,
     "metadata": {},
     "output_type": "execute_result"
    }
   ],
   "source": [
    "res.pvalue"
   ]
  },
  {
   "cell_type": "code",
   "execution_count": null,
   "id": "fa7ee2d2-bc68-411c-9b14-c1ee29c2d46d",
   "metadata": {},
   "outputs": [],
   "source": [
    "# H0: The variation of F1 before and after the feedback loop is independent from the number of annotations (rho = 0)\n",
    "\n"
   ]
  }
 ],
 "metadata": {
  "kernelspec": {
   "display_name": "Python 3 (ipykernel)",
   "language": "python",
   "name": "python3"
  },
  "language_info": {
   "codemirror_mode": {
    "name": "ipython",
    "version": 3
   },
   "file_extension": ".py",
   "mimetype": "text/x-python",
   "name": "python",
   "nbconvert_exporter": "python",
   "pygments_lexer": "ipython3",
   "version": "3.9.12"
  }
 },
 "nbformat": 4,
 "nbformat_minor": 5
}
